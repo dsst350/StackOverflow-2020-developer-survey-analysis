{
  "nbformat": 4,
  "nbformat_minor": 0,
  "metadata": {
    "colab": {
      "name": "stack_overflow_survey_2020.ipynb",
      "provenance": [],
      "collapsed_sections": []
    },
    "kernelspec": {
      "name": "python3",
      "display_name": "Python 3"
    },
    "accelerator": "GPU"
  },
  "cells": [
    {
      "cell_type": "code",
      "metadata": {
        "id": "Eb7k3aVC80uf"
      },
      "source": [
        "#Import the neccessary libraries\r\n",
        "import numpy as np\r\n",
        "import matplotlib.pyplot as plt\r\n",
        "import pandas as pd\r\n",
        "import seaborn as sns\r\n",
        "%matplotlib inline"
      ],
      "execution_count": null,
      "outputs": []
    },
    {
      "cell_type": "code",
      "metadata": {
        "id": "FW2EG0UFLI9U"
      },
      "source": [
        "#Since the data is already collected by StackOverflow we need not gather the data.\r\n",
        "#Download the data and read in the data\r\n",
        "df = pd.read_csv(\"survey_results_public.csv\")"
      ],
      "execution_count": null,
      "outputs": []
    },
    {
      "cell_type": "code",
      "metadata": {
        "id": "dVfylImsLsC9"
      },
      "source": [
        "#Read the data for understanding the column descriptions and usage\r\n",
        "schema_df = pd.read_csv(\"survey_results_schema.csv\")"
      ],
      "execution_count": null,
      "outputs": []
    },
    {
      "cell_type": "code",
      "metadata": {
        "colab": {
          "base_uri": "https://localhost:8080/"
        },
        "id": "HH-ArUslLxhn",
        "outputId": "653a03ae-dbae-4231-d63e-083da79cbc0d"
      },
      "source": [
        "schema_df.shape"
      ],
      "execution_count": null,
      "outputs": [
        {
          "output_type": "execute_result",
          "data": {
            "text/plain": [
              "(61, 2)"
            ]
          },
          "metadata": {
            "tags": []
          },
          "execution_count": 8
        }
      ]
    },
    {
      "cell_type": "code",
      "metadata": {
        "colab": {
          "base_uri": "https://localhost:8080/"
        },
        "id": "WZUltvoeLyv7",
        "outputId": "e4d08141-4a8d-4c53-c1b2-f9c1b2e98d44"
      },
      "source": [
        "df.shape"
      ],
      "execution_count": null,
      "outputs": [
        {
          "output_type": "execute_result",
          "data": {
            "text/plain": [
              "(64461, 61)"
            ]
          },
          "metadata": {
            "tags": []
          },
          "execution_count": 9
        }
      ]
    },
    {
      "cell_type": "code",
      "metadata": {
        "id": "lFnBvX2tL9OY",
        "colab": {
          "base_uri": "https://localhost:8080/",
          "height": 195
        },
        "outputId": "d3f3cc31-4b28-4037-aba0-b184b029b527"
      },
      "source": [
        "schema_df.head()"
      ],
      "execution_count": null,
      "outputs": [
        {
          "output_type": "execute_result",
          "data": {
            "text/html": [
              "<div>\n",
              "<style scoped>\n",
              "    .dataframe tbody tr th:only-of-type {\n",
              "        vertical-align: middle;\n",
              "    }\n",
              "\n",
              "    .dataframe tbody tr th {\n",
              "        vertical-align: top;\n",
              "    }\n",
              "\n",
              "    .dataframe thead th {\n",
              "        text-align: right;\n",
              "    }\n",
              "</style>\n",
              "<table border=\"1\" class=\"dataframe\">\n",
              "  <thead>\n",
              "    <tr style=\"text-align: right;\">\n",
              "      <th></th>\n",
              "      <th>Column</th>\n",
              "      <th>QuestionText</th>\n",
              "    </tr>\n",
              "  </thead>\n",
              "  <tbody>\n",
              "    <tr>\n",
              "      <th>0</th>\n",
              "      <td>Respondent</td>\n",
              "      <td>Randomized respondent ID number (not in order ...</td>\n",
              "    </tr>\n",
              "    <tr>\n",
              "      <th>1</th>\n",
              "      <td>MainBranch</td>\n",
              "      <td>Which of the following options best describes ...</td>\n",
              "    </tr>\n",
              "    <tr>\n",
              "      <th>2</th>\n",
              "      <td>Hobbyist</td>\n",
              "      <td>Do you code as a hobby?</td>\n",
              "    </tr>\n",
              "    <tr>\n",
              "      <th>3</th>\n",
              "      <td>Age</td>\n",
              "      <td>What is your age (in years)? If you prefer not...</td>\n",
              "    </tr>\n",
              "    <tr>\n",
              "      <th>4</th>\n",
              "      <td>Age1stCode</td>\n",
              "      <td>At what age did you write your first line of c...</td>\n",
              "    </tr>\n",
              "  </tbody>\n",
              "</table>\n",
              "</div>"
            ],
            "text/plain": [
              "       Column                                       QuestionText\n",
              "0  Respondent  Randomized respondent ID number (not in order ...\n",
              "1  MainBranch  Which of the following options best describes ...\n",
              "2    Hobbyist                            Do you code as a hobby?\n",
              "3         Age  What is your age (in years)? If you prefer not...\n",
              "4  Age1stCode  At what age did you write your first line of c..."
            ]
          },
          "metadata": {
            "tags": []
          },
          "execution_count": 10
        }
      ]
    },
    {
      "cell_type": "code",
      "metadata": {
        "colab": {
          "base_uri": "https://localhost:8080/"
        },
        "id": "Ox4njZRnO-j3",
        "outputId": "f7b4ae9d-df93-4801-c562-e496cd2b31ab"
      },
      "source": [
        "columns,questions = schema_df.iloc[:,0].tolist(),schema_df.iloc[:,1].tolist()\r\n",
        "for column,question in zip(columns,questions):\r\n",
        "  print(column,\"->\",question)\r\n"
      ],
      "execution_count": null,
      "outputs": [
        {
          "output_type": "stream",
          "text": [
            "Respondent -> Randomized respondent ID number (not in order of survey response time)\n",
            "MainBranch -> Which of the following options best describes you today? Here, by \"developer\" we mean \"someone who writes code.\"\n",
            "Hobbyist -> Do you code as a hobby?\n",
            "Age -> What is your age (in years)? If you prefer not to answer, you may leave this question blank.\n",
            "Age1stCode -> At what age did you write your first line of code or program? (e.g., webpage, Hello World, Scratch project)\n",
            "CompFreq -> Is that compensation weekly, monthly, or yearly?\n",
            "CompTotal -> What is your current total compensation (salary, bonuses, and perks, before taxes and deductions), in `CurrencySymbol`? Please enter a whole number in the box below, without any punctuation. If you are paid hourly, please estimate an equivalent weekly, monthly, or yearly salary. If you prefer not to answer, please leave the box empty.\n",
            "ConvertedComp -> Salary converted to annual USD salaries using the exchange rate on 2020-02-19, assuming 12 working months and 50 working weeks.\n",
            "Country -> Where do you live?\n",
            "CurrencyDesc -> Which currency do you use day-to-day? If your answer is complicated, please pick the one you're most comfortable estimating in.\n",
            "CurrencySymbol -> Which currency do you use day-to-day? If your answer is complicated, please pick the one you're most comfortable estimating in.\n",
            "DatabaseDesireNextYear -> Which database environments have you done extensive development work in over the past year, and which do you want to work in over the next year? (If you both worked with the database and want to continue to do so, please check both boxes in that row.)\n",
            "DatabaseWorkedWith -> Which database environments have you done extensive development work in over the past year, and which do you want to work in over the next year? (If you both worked with the database and want to continue to do so, please check both boxes in that row.)\n",
            "DevType -> Which of the following describe you? Please select all that apply.\n",
            "EdLevel -> Which of the following best describes the highest level of formal education that you’ve completed?\n",
            "Employment -> Which of the following best describes your current employment status?\n",
            "Ethnicity -> Which of the following describe you, if any? Please check all that apply. If you prefer not to answer, you may leave this question blank.\n",
            "Gender -> Which of the following describe you, if any? Please check all that apply. If you prefer not to answer, you may leave this question blank.\n",
            "JobFactors -> Imagine that you are deciding between two job offers with the same compensation, benefits, and location. Of the following factors, which 3 are MOST important to you?\n",
            "JobSat -> How satisfied are you with your current job? (If you work multiple jobs, answer for the one you spend the most hours on.)\n",
            "JobSeek -> Which of the following best describes your current job-seeking status?\n",
            "LanguageDesireNextYear -> Which programming, scripting, and markup languages have you done extensive development work in over the past year, and which do you want to work in over the next year? (If you both worked with the language and want to continue to do so, please check both boxes in that row.)\n",
            "LanguageWorkedWith -> Which programming, scripting, and markup languages have you done extensive development work in over the past year, and which do you want to work in over the next year? (If you both worked with the language and want to continue to do so, please check both boxes in that row.)\n",
            "MiscTechDesireNextYear -> Which other frameworks, libraries, and tools have you done extensive development work in over the past year, and which do you want to work in over the next year? (If you both worked with the framework and want to continue to do so, please check both boxes in that row.)\n",
            "MiscTechWorkedWith -> Which other frameworks, libraries, and tools have you done extensive development work in over the past year, and which do you want to work in over the next year? (If you both worked with the framework and want to continue to do so, please check both boxes in that row.)\n",
            "NEWCollabToolsDesireNextYear -> Which collaboration tools have you done extensive development work in over the past year, and which do you want to work in over the next year? (If you worked with the tool and want to continue to do so, please check both boxes in that row.)\n",
            "NEWCollabToolsWorkedWith -> Which collaboration tools have you done extensive development work in over the past year, and which do you want to work in over the next year? (If you worked with the tool and want to continue to do so, please check both boxes in that row.)\n",
            "NEWDevOps -> Does your company have a dedicated DevOps person?\n",
            "NEWDevOpsImpt -> How important is the practice of DevOps to scaling software development?\n",
            "NEWEdImpt -> How important is a formal education, such as a university degree in computer science, to your career?\n",
            "NEWJobHunt -> In general, what drives you to look for a new job? Select all that apply.\n",
            "NEWJobHuntResearch -> When job searching, how do you learn more about a company? Select all that apply.\n",
            "NEWLearn -> How frequently do you learn a new language or framework?\n",
            "NEWOffTopic -> Do you think Stack Overflow should relax restrictions on what is considered “off-topic”?\n",
            "NEWOnboardGood -> Do you think your company has a good onboarding process? (By onboarding, we mean the structured process of getting you settled in to your new role at a company)\n",
            "NEWOtherComms -> Are you a member of any other online developer communities?\n",
            "NEWOvertime -> How often do you work overtime or beyond the formal time expectation of your job?\n",
            "NEWPurchaseResearch -> When buying a new tool or software, how do you discover and research available solutions? Select all that apply.\n",
            "NEWPurpleLink -> You search for a coding solution online and the first result link is purple because you already visited it. How do you feel?\n",
            "NEWSOSites -> Which of the following Stack Overflow sites have you visited? Select all that apply.\n",
            "NEWStuck -> What do you do when you get stuck on a problem? Select all that apply.\n",
            "OpSys -> What is the primary operating system in which you work?\n",
            "OrgSize -> Approximately how many people are employed by the company or organization you currently work for?\n",
            "PlatformDesireNextYear -> Which platforms have you done extensive development work in over the past year, and which do you want to work in over the next year? (If you both worked with the platform and want to continue to do so, please check both boxes in that row.)\n",
            "PlatformWorkedWith -> Which platforms have you done extensive development work in over the past year, and which do you want to work in over the next year? (If you both worked with the platform and want to continue to do so, please check both boxes in that row.)\n",
            "PurchaseWhat -> What level of influence do you, personally, have over new technology purchases at your organization?\n",
            "Sexuality -> Which of the following describe you, if any? Please check all that apply. If you prefer not to answer, you may leave this question blank.\n",
            "SOAccount -> Do you have a Stack Overflow account?\n",
            "SOComm -> Do you consider yourself a member of the Stack Overflow community?\n",
            "SOPartFreq -> How frequently would you say you participate in Q&A on Stack Overflow? By participate we mean ask, answer, vote for, or comment on questions.\n",
            "SOVisitFreq -> How frequently would you say you visit Stack Overflow?\n",
            "SurveyEase -> How easy or difficult was this survey to complete?\n",
            "SurveyLength -> How do you feel about the length of the survey this year?\n",
            "Trans -> Are you transgender?\n",
            "UndergradMajor -> What was your primary field of study?\n",
            "WebframeDesireNextYear -> Which web frameworks have you done extensive development work in over the past year, and which do you want to work in over the next year? (If you both worked with the framework and want to continue to do so, please check both boxes in that row.)\n",
            "WebframeWorkedWith -> Which web frameworks have you done extensive development work in over the past year, and which do you want to work in over the next year? (If you both worked with the framework and want to continue to do so, please check both boxes in that row.)\n",
            "WelcomeChange -> Compared to last year, how welcome do you feel on Stack Overflow?\n",
            "WorkWeekHrs -> On average, how many hours per week do you work? Please enter a whole number in the box.\n",
            "YearsCode -> Including any education, how many years have you been coding in total?\n",
            "YearsCodePro -> NOT including education, how many years have you coded professionally (as a part of your work)?\n"
          ],
          "name": "stdout"
        }
      ]
    },
    {
      "cell_type": "code",
      "metadata": {
        "colab": {
          "base_uri": "https://localhost:8080/",
          "height": 618
        },
        "id": "pnzAKYTBOOIV",
        "outputId": "52dfae6a-b265-409d-a5fd-8a675f545d15"
      },
      "source": [
        "#Print the first five rows\r\n",
        "df.head()"
      ],
      "execution_count": null,
      "outputs": [
        {
          "output_type": "execute_result",
          "data": {
            "text/html": [
              "<div>\n",
              "<style scoped>\n",
              "    .dataframe tbody tr th:only-of-type {\n",
              "        vertical-align: middle;\n",
              "    }\n",
              "\n",
              "    .dataframe tbody tr th {\n",
              "        vertical-align: top;\n",
              "    }\n",
              "\n",
              "    .dataframe thead th {\n",
              "        text-align: right;\n",
              "    }\n",
              "</style>\n",
              "<table border=\"1\" class=\"dataframe\">\n",
              "  <thead>\n",
              "    <tr style=\"text-align: right;\">\n",
              "      <th></th>\n",
              "      <th>Respondent</th>\n",
              "      <th>MainBranch</th>\n",
              "      <th>Hobbyist</th>\n",
              "      <th>Age</th>\n",
              "      <th>Age1stCode</th>\n",
              "      <th>CompFreq</th>\n",
              "      <th>CompTotal</th>\n",
              "      <th>ConvertedComp</th>\n",
              "      <th>Country</th>\n",
              "      <th>CurrencyDesc</th>\n",
              "      <th>CurrencySymbol</th>\n",
              "      <th>DatabaseDesireNextYear</th>\n",
              "      <th>DatabaseWorkedWith</th>\n",
              "      <th>DevType</th>\n",
              "      <th>EdLevel</th>\n",
              "      <th>Employment</th>\n",
              "      <th>Ethnicity</th>\n",
              "      <th>Gender</th>\n",
              "      <th>JobFactors</th>\n",
              "      <th>JobSat</th>\n",
              "      <th>JobSeek</th>\n",
              "      <th>LanguageDesireNextYear</th>\n",
              "      <th>LanguageWorkedWith</th>\n",
              "      <th>MiscTechDesireNextYear</th>\n",
              "      <th>MiscTechWorkedWith</th>\n",
              "      <th>NEWCollabToolsDesireNextYear</th>\n",
              "      <th>NEWCollabToolsWorkedWith</th>\n",
              "      <th>NEWDevOps</th>\n",
              "      <th>NEWDevOpsImpt</th>\n",
              "      <th>NEWEdImpt</th>\n",
              "      <th>NEWJobHunt</th>\n",
              "      <th>NEWJobHuntResearch</th>\n",
              "      <th>NEWLearn</th>\n",
              "      <th>NEWOffTopic</th>\n",
              "      <th>NEWOnboardGood</th>\n",
              "      <th>NEWOtherComms</th>\n",
              "      <th>NEWOvertime</th>\n",
              "      <th>NEWPurchaseResearch</th>\n",
              "      <th>NEWPurpleLink</th>\n",
              "      <th>NEWSOSites</th>\n",
              "      <th>NEWStuck</th>\n",
              "      <th>OpSys</th>\n",
              "      <th>OrgSize</th>\n",
              "      <th>PlatformDesireNextYear</th>\n",
              "      <th>PlatformWorkedWith</th>\n",
              "      <th>PurchaseWhat</th>\n",
              "      <th>Sexuality</th>\n",
              "      <th>SOAccount</th>\n",
              "      <th>SOComm</th>\n",
              "      <th>SOPartFreq</th>\n",
              "      <th>SOVisitFreq</th>\n",
              "      <th>SurveyEase</th>\n",
              "      <th>SurveyLength</th>\n",
              "      <th>Trans</th>\n",
              "      <th>UndergradMajor</th>\n",
              "      <th>WebframeDesireNextYear</th>\n",
              "      <th>WebframeWorkedWith</th>\n",
              "      <th>WelcomeChange</th>\n",
              "      <th>WorkWeekHrs</th>\n",
              "      <th>YearsCode</th>\n",
              "      <th>YearsCodePro</th>\n",
              "    </tr>\n",
              "  </thead>\n",
              "  <tbody>\n",
              "    <tr>\n",
              "      <th>0</th>\n",
              "      <td>1</td>\n",
              "      <td>I am a developer by profession</td>\n",
              "      <td>Yes</td>\n",
              "      <td>NaN</td>\n",
              "      <td>13</td>\n",
              "      <td>Monthly</td>\n",
              "      <td>NaN</td>\n",
              "      <td>NaN</td>\n",
              "      <td>Germany</td>\n",
              "      <td>European Euro</td>\n",
              "      <td>EUR</td>\n",
              "      <td>Microsoft SQL Server</td>\n",
              "      <td>Elasticsearch;Microsoft SQL Server;Oracle</td>\n",
              "      <td>Developer, desktop or enterprise applications;...</td>\n",
              "      <td>Master’s degree (M.A., M.S., M.Eng., MBA, etc.)</td>\n",
              "      <td>Independent contractor, freelancer, or self-em...</td>\n",
              "      <td>White or of European descent</td>\n",
              "      <td>Man</td>\n",
              "      <td>Languages, frameworks, and other technologies ...</td>\n",
              "      <td>Slightly satisfied</td>\n",
              "      <td>I am not interested in new job opportunities</td>\n",
              "      <td>C#;HTML/CSS;JavaScript</td>\n",
              "      <td>C#;HTML/CSS;JavaScript</td>\n",
              "      <td>.NET Core;Xamarin</td>\n",
              "      <td>.NET;.NET Core</td>\n",
              "      <td>Microsoft Teams;Microsoft Azure;Trello</td>\n",
              "      <td>Confluence;Jira;Slack;Microsoft Azure;Trello</td>\n",
              "      <td>No</td>\n",
              "      <td>Somewhat important</td>\n",
              "      <td>Fairly important</td>\n",
              "      <td>NaN</td>\n",
              "      <td>NaN</td>\n",
              "      <td>Once a year</td>\n",
              "      <td>Not sure</td>\n",
              "      <td>NaN</td>\n",
              "      <td>No</td>\n",
              "      <td>Often: 1-2 days per week or more</td>\n",
              "      <td>Start a free trial;Ask developers I know/work ...</td>\n",
              "      <td>Amused</td>\n",
              "      <td>Stack Overflow (public Q&amp;A for anyone who codes)</td>\n",
              "      <td>Visit Stack Overflow;Go for a walk or other ph...</td>\n",
              "      <td>Windows</td>\n",
              "      <td>2 to 9 employees</td>\n",
              "      <td>Android;iOS;Kubernetes;Microsoft Azure;Windows</td>\n",
              "      <td>Windows</td>\n",
              "      <td>NaN</td>\n",
              "      <td>Straight / Heterosexual</td>\n",
              "      <td>No</td>\n",
              "      <td>No, not at all</td>\n",
              "      <td>NaN</td>\n",
              "      <td>Multiple times per day</td>\n",
              "      <td>Neither easy nor difficult</td>\n",
              "      <td>Appropriate in length</td>\n",
              "      <td>No</td>\n",
              "      <td>Computer science, computer engineering, or sof...</td>\n",
              "      <td>ASP.NET Core</td>\n",
              "      <td>ASP.NET;ASP.NET Core</td>\n",
              "      <td>Just as welcome now as I felt last year</td>\n",
              "      <td>50.0</td>\n",
              "      <td>36</td>\n",
              "      <td>27</td>\n",
              "    </tr>\n",
              "    <tr>\n",
              "      <th>1</th>\n",
              "      <td>2</td>\n",
              "      <td>I am a developer by profession</td>\n",
              "      <td>No</td>\n",
              "      <td>NaN</td>\n",
              "      <td>19</td>\n",
              "      <td>NaN</td>\n",
              "      <td>NaN</td>\n",
              "      <td>NaN</td>\n",
              "      <td>United Kingdom</td>\n",
              "      <td>Pound sterling</td>\n",
              "      <td>GBP</td>\n",
              "      <td>NaN</td>\n",
              "      <td>NaN</td>\n",
              "      <td>Developer, full-stack;Developer, mobile</td>\n",
              "      <td>Bachelor’s degree (B.A., B.S., B.Eng., etc.)</td>\n",
              "      <td>Employed full-time</td>\n",
              "      <td>NaN</td>\n",
              "      <td>NaN</td>\n",
              "      <td>NaN</td>\n",
              "      <td>Very dissatisfied</td>\n",
              "      <td>I am not interested in new job opportunities</td>\n",
              "      <td>Python;Swift</td>\n",
              "      <td>JavaScript;Swift</td>\n",
              "      <td>React Native;TensorFlow;Unity 3D</td>\n",
              "      <td>React Native</td>\n",
              "      <td>Github;Slack</td>\n",
              "      <td>Confluence;Jira;Github;Gitlab;Slack</td>\n",
              "      <td>NaN</td>\n",
              "      <td>NaN</td>\n",
              "      <td>Fairly important</td>\n",
              "      <td>NaN</td>\n",
              "      <td>NaN</td>\n",
              "      <td>Once a year</td>\n",
              "      <td>Not sure</td>\n",
              "      <td>NaN</td>\n",
              "      <td>No</td>\n",
              "      <td>NaN</td>\n",
              "      <td>NaN</td>\n",
              "      <td>Amused</td>\n",
              "      <td>Stack Overflow (public Q&amp;A for anyone who code...</td>\n",
              "      <td>Visit Stack Overflow;Go for a walk or other ph...</td>\n",
              "      <td>MacOS</td>\n",
              "      <td>1,000 to 4,999 employees</td>\n",
              "      <td>iOS;Kubernetes;Linux;MacOS</td>\n",
              "      <td>iOS</td>\n",
              "      <td>I have little or no influence</td>\n",
              "      <td>NaN</td>\n",
              "      <td>Yes</td>\n",
              "      <td>Yes, definitely</td>\n",
              "      <td>Less than once per month or monthly</td>\n",
              "      <td>Multiple times per day</td>\n",
              "      <td>NaN</td>\n",
              "      <td>NaN</td>\n",
              "      <td>NaN</td>\n",
              "      <td>Computer science, computer engineering, or sof...</td>\n",
              "      <td>NaN</td>\n",
              "      <td>NaN</td>\n",
              "      <td>Somewhat more welcome now than last year</td>\n",
              "      <td>NaN</td>\n",
              "      <td>7</td>\n",
              "      <td>4</td>\n",
              "    </tr>\n",
              "    <tr>\n",
              "      <th>2</th>\n",
              "      <td>3</td>\n",
              "      <td>I code primarily as a hobby</td>\n",
              "      <td>Yes</td>\n",
              "      <td>NaN</td>\n",
              "      <td>15</td>\n",
              "      <td>NaN</td>\n",
              "      <td>NaN</td>\n",
              "      <td>NaN</td>\n",
              "      <td>Russian Federation</td>\n",
              "      <td>NaN</td>\n",
              "      <td>NaN</td>\n",
              "      <td>NaN</td>\n",
              "      <td>NaN</td>\n",
              "      <td>NaN</td>\n",
              "      <td>NaN</td>\n",
              "      <td>NaN</td>\n",
              "      <td>NaN</td>\n",
              "      <td>NaN</td>\n",
              "      <td>NaN</td>\n",
              "      <td>NaN</td>\n",
              "      <td>NaN</td>\n",
              "      <td>Objective-C;Python;Swift</td>\n",
              "      <td>Objective-C;Python;Swift</td>\n",
              "      <td>NaN</td>\n",
              "      <td>NaN</td>\n",
              "      <td>NaN</td>\n",
              "      <td>NaN</td>\n",
              "      <td>NaN</td>\n",
              "      <td>NaN</td>\n",
              "      <td>NaN</td>\n",
              "      <td>NaN</td>\n",
              "      <td>NaN</td>\n",
              "      <td>Once a decade</td>\n",
              "      <td>NaN</td>\n",
              "      <td>NaN</td>\n",
              "      <td>No</td>\n",
              "      <td>NaN</td>\n",
              "      <td>NaN</td>\n",
              "      <td>NaN</td>\n",
              "      <td>Stack Overflow (public Q&amp;A for anyone who codes)</td>\n",
              "      <td>NaN</td>\n",
              "      <td>Linux-based</td>\n",
              "      <td>NaN</td>\n",
              "      <td>NaN</td>\n",
              "      <td>NaN</td>\n",
              "      <td>NaN</td>\n",
              "      <td>NaN</td>\n",
              "      <td>Yes</td>\n",
              "      <td>Yes, somewhat</td>\n",
              "      <td>A few times per month or weekly</td>\n",
              "      <td>Daily or almost daily</td>\n",
              "      <td>Neither easy nor difficult</td>\n",
              "      <td>Appropriate in length</td>\n",
              "      <td>NaN</td>\n",
              "      <td>NaN</td>\n",
              "      <td>NaN</td>\n",
              "      <td>NaN</td>\n",
              "      <td>Somewhat more welcome now than last year</td>\n",
              "      <td>NaN</td>\n",
              "      <td>4</td>\n",
              "      <td>NaN</td>\n",
              "    </tr>\n",
              "    <tr>\n",
              "      <th>3</th>\n",
              "      <td>4</td>\n",
              "      <td>I am a developer by profession</td>\n",
              "      <td>Yes</td>\n",
              "      <td>25.0</td>\n",
              "      <td>18</td>\n",
              "      <td>NaN</td>\n",
              "      <td>NaN</td>\n",
              "      <td>NaN</td>\n",
              "      <td>Albania</td>\n",
              "      <td>Albanian lek</td>\n",
              "      <td>ALL</td>\n",
              "      <td>NaN</td>\n",
              "      <td>NaN</td>\n",
              "      <td>NaN</td>\n",
              "      <td>Master’s degree (M.A., M.S., M.Eng., MBA, etc.)</td>\n",
              "      <td>NaN</td>\n",
              "      <td>White or of European descent</td>\n",
              "      <td>Man</td>\n",
              "      <td>Flex time or a flexible schedule;Office enviro...</td>\n",
              "      <td>Slightly dissatisfied</td>\n",
              "      <td>I’m not actively looking, but I am open to new...</td>\n",
              "      <td>NaN</td>\n",
              "      <td>NaN</td>\n",
              "      <td>NaN</td>\n",
              "      <td>NaN</td>\n",
              "      <td>NaN</td>\n",
              "      <td>NaN</td>\n",
              "      <td>No</td>\n",
              "      <td>NaN</td>\n",
              "      <td>Not at all important/not necessary</td>\n",
              "      <td>Curious about other opportunities;Wanting to w...</td>\n",
              "      <td>NaN</td>\n",
              "      <td>Once a year</td>\n",
              "      <td>Not sure</td>\n",
              "      <td>Yes</td>\n",
              "      <td>Yes</td>\n",
              "      <td>Occasionally: 1-2 days per quarter but less th...</td>\n",
              "      <td>NaN</td>\n",
              "      <td>NaN</td>\n",
              "      <td>Stack Overflow (public Q&amp;A for anyone who code...</td>\n",
              "      <td>NaN</td>\n",
              "      <td>Linux-based</td>\n",
              "      <td>20 to 99 employees</td>\n",
              "      <td>NaN</td>\n",
              "      <td>NaN</td>\n",
              "      <td>I have a great deal of influence</td>\n",
              "      <td>Straight / Heterosexual</td>\n",
              "      <td>Yes</td>\n",
              "      <td>Yes, definitely</td>\n",
              "      <td>A few times per month or weekly</td>\n",
              "      <td>Multiple times per day</td>\n",
              "      <td>NaN</td>\n",
              "      <td>NaN</td>\n",
              "      <td>No</td>\n",
              "      <td>Computer science, computer engineering, or sof...</td>\n",
              "      <td>NaN</td>\n",
              "      <td>NaN</td>\n",
              "      <td>Somewhat less welcome now than last year</td>\n",
              "      <td>40.0</td>\n",
              "      <td>7</td>\n",
              "      <td>4</td>\n",
              "    </tr>\n",
              "    <tr>\n",
              "      <th>4</th>\n",
              "      <td>5</td>\n",
              "      <td>I used to be a developer by profession, but no...</td>\n",
              "      <td>Yes</td>\n",
              "      <td>31.0</td>\n",
              "      <td>16</td>\n",
              "      <td>NaN</td>\n",
              "      <td>NaN</td>\n",
              "      <td>NaN</td>\n",
              "      <td>United States</td>\n",
              "      <td>NaN</td>\n",
              "      <td>NaN</td>\n",
              "      <td>MySQL;PostgreSQL</td>\n",
              "      <td>MySQL;PostgreSQL;Redis;SQLite</td>\n",
              "      <td>NaN</td>\n",
              "      <td>Bachelor’s degree (B.A., B.S., B.Eng., etc.)</td>\n",
              "      <td>Employed full-time</td>\n",
              "      <td>White or of European descent</td>\n",
              "      <td>Man</td>\n",
              "      <td>NaN</td>\n",
              "      <td>NaN</td>\n",
              "      <td>NaN</td>\n",
              "      <td>Java;Ruby;Scala</td>\n",
              "      <td>HTML/CSS;Ruby;SQL</td>\n",
              "      <td>Ansible;Chef</td>\n",
              "      <td>Ansible</td>\n",
              "      <td>Github;Google Suite (Docs, Meet, etc)</td>\n",
              "      <td>Confluence;Jira;Github;Slack;Google Suite (Doc...</td>\n",
              "      <td>NaN</td>\n",
              "      <td>NaN</td>\n",
              "      <td>Very important</td>\n",
              "      <td>NaN</td>\n",
              "      <td>NaN</td>\n",
              "      <td>Once a year</td>\n",
              "      <td>No</td>\n",
              "      <td>NaN</td>\n",
              "      <td>Yes</td>\n",
              "      <td>NaN</td>\n",
              "      <td>Start a free trial;Ask developers I know/work ...</td>\n",
              "      <td>Hello, old friend</td>\n",
              "      <td>Stack Overflow (public Q&amp;A for anyone who code...</td>\n",
              "      <td>Call a coworker or friend;Visit Stack Overflow...</td>\n",
              "      <td>Windows</td>\n",
              "      <td>NaN</td>\n",
              "      <td>Docker;Google Cloud Platform;Heroku;Linux;Windows</td>\n",
              "      <td>AWS;Docker;Linux;MacOS;Windows</td>\n",
              "      <td>NaN</td>\n",
              "      <td>Straight / Heterosexual</td>\n",
              "      <td>Yes</td>\n",
              "      <td>Yes, somewhat</td>\n",
              "      <td>Less than once per month or monthly</td>\n",
              "      <td>A few times per month or weekly</td>\n",
              "      <td>Easy</td>\n",
              "      <td>Too short</td>\n",
              "      <td>No</td>\n",
              "      <td>Computer science, computer engineering, or sof...</td>\n",
              "      <td>Django;Ruby on Rails</td>\n",
              "      <td>Ruby on Rails</td>\n",
              "      <td>Just as welcome now as I felt last year</td>\n",
              "      <td>NaN</td>\n",
              "      <td>15</td>\n",
              "      <td>8</td>\n",
              "    </tr>\n",
              "  </tbody>\n",
              "</table>\n",
              "</div>"
            ],
            "text/plain": [
              "   Respondent  ... YearsCodePro\n",
              "0           1  ...           27\n",
              "1           2  ...            4\n",
              "2           3  ...          NaN\n",
              "3           4  ...            4\n",
              "4           5  ...            8\n",
              "\n",
              "[5 rows x 61 columns]"
            ]
          },
          "metadata": {
            "tags": []
          },
          "execution_count": 12
        }
      ]
    },
    {
      "cell_type": "markdown",
      "metadata": {
        "id": "xH9hYUvQQpoL"
      },
      "source": [
        "**I will try to answer my first question of interest which is about  the most widely used operating system used by developers from the survey**"
      ]
    },
    {
      "cell_type": "code",
      "metadata": {
        "id": "ruVIPH5VQj-e"
      },
      "source": [
        "op_sys = df[\"OpSys\"].value_counts()"
      ],
      "execution_count": null,
      "outputs": []
    },
    {
      "cell_type": "code",
      "metadata": {
        "colab": {
          "base_uri": "https://localhost:8080/"
        },
        "id": "flgeEwd5Q43m",
        "outputId": "a4325f24-f9e7-4994-db45-ccb15f1aaa6a"
      },
      "source": [
        "op_sys"
      ],
      "execution_count": null,
      "outputs": [
        {
          "output_type": "execute_result",
          "data": {
            "text/plain": [
              "Windows        27170\n",
              "Linux-based    14932\n",
              "MacOS          14075\n",
              "BSD               51\n",
              "Name: OpSys, dtype: int64"
            ]
          },
          "metadata": {
            "tags": []
          },
          "execution_count": 14
        }
      ]
    },
    {
      "cell_type": "code",
      "metadata": {
        "colab": {
          "base_uri": "https://localhost:8080/",
          "height": 334
        },
        "id": "qYSYKm5L4-18",
        "outputId": "4e74cb49-37bc-45a9-dcd0-28f9a8db58f0"
      },
      "source": [
        "#Plotting the bar graph\r\n",
        "fig = plt.figure(figsize=(7,5))\r\n",
        "plt.bar(op_sys.keys(),op_sys.values)\r\n",
        "plt.xlabel('Operating System')\r\n",
        "plt.ylabel(\"Choice of Developers\")\r\n",
        "plt.show()"
      ],
      "execution_count": null,
      "outputs": [
        {
          "output_type": "display_data",
          "data": {
            "image/png": "[encoded data removed]",
            "text/plain": [
              "<Figure size 504x360 with 1 Axes>"
            ]
          },
          "metadata": {
            "tags": [],
            "needs_background": "light"
          }
        }
      ]
    },
    {
      "cell_type": "markdown",
      "metadata": {
        "id": "0WO04svzRfjc"
      },
      "source": [
        "**From the results we can conclude that Windows was used by the most of the developers followed by MacOs ,Linux-based and BSD**"
      ]
    },
    {
      "cell_type": "markdown",
      "metadata": {
        "id": "yx-0l3V7SzZL"
      },
      "source": [
        "**Now lets try to find about the language which developers wanted to learn the most**"
      ]
    },
    {
      "cell_type": "code",
      "metadata": {
        "id": "IHoaMYuTRJo9"
      },
      "source": [
        "#We need to drop the columns where there is no response or N/A\r\n",
        "langs = df[\"LanguageDesireNextYear\"].dropna()"
      ],
      "execution_count": null,
      "outputs": []
    },
    {
      "cell_type": "code",
      "metadata": {
        "colab": {
          "base_uri": "https://localhost:8080/"
        },
        "id": "-xinu-AFTKgW",
        "outputId": "df7c1ca3-f332-4af9-c368-3fd0dea21333"
      },
      "source": [
        "langs.shape"
      ],
      "execution_count": null,
      "outputs": [
        {
          "output_type": "execute_result",
          "data": {
            "text/plain": [
              "(54113,)"
            ]
          },
          "metadata": {
            "tags": []
          },
          "execution_count": 16
        }
      ]
    },
    {
      "cell_type": "code",
      "metadata": {
        "id": "2iIb5MFjTMos"
      },
      "source": [
        "#A dictionary for counting the occurences of a language\r\n",
        "lang_dict = {}\r\n",
        "def split_languages(text):\r\n",
        "    '''Function Takes in a string \r\n",
        "    splits it by using semicolon as a delimiter.\r\n",
        "    It then increments the frequency of the language in the dictionary.\r\n",
        "    '''\r\n",
        "    languages = text.split(\";\")#Split the text\r\n",
        "    for language in languages:\r\n",
        "      lang_dict[str(language)] = lang_dict.get(language,0) + 1"
      ],
      "execution_count": null,
      "outputs": []
    },
    {
      "cell_type": "code",
      "metadata": {
        "colab": {
          "base_uri": "https://localhost:8080/"
        },
        "id": "m24DJLXwTUzD",
        "outputId": "2a19560d-99d6-440b-8d2c-c98f2f4090c0"
      },
      "source": [
        "#Apply the above defined function\r\n",
        "langs.apply(split_languages)"
      ],
      "execution_count": null,
      "outputs": [
        {
          "output_type": "execute_result",
          "data": {
            "text/plain": [
              "0        None\n",
              "1        None\n",
              "2        None\n",
              "4        None\n",
              "5        None\n",
              "         ... \n",
              "64453    None\n",
              "64455    None\n",
              "64457    None\n",
              "64459    None\n",
              "64460    None\n",
              "Name: LanguageDesireNextYear, Length: 54113, dtype: object"
            ]
          },
          "metadata": {
            "tags": []
          },
          "execution_count": 18
        }
      ]
    },
    {
      "cell_type": "code",
      "metadata": {
        "colab": {
          "base_uri": "https://localhost:8080/"
        },
        "id": "Mq4hxf40T6Rp",
        "outputId": "c667f05d-c497-4686-fd55-a4bbe287f0f8"
      },
      "source": [
        "lang_dict"
      ],
      "execution_count": null,
      "outputs": [
        {
          "output_type": "execute_result",
          "data": {
            "text/plain": [
              "{'Assembly': 2469,\n",
              " 'Bash/Shell/PowerShell': 11728,\n",
              " 'C': 6091,\n",
              " 'C#': 13674,\n",
              " 'C++': 9756,\n",
              " 'Dart': 4742,\n",
              " 'Go': 12605,\n",
              " 'HTML/CSS': 20771,\n",
              " 'Haskell': 2996,\n",
              " 'Java': 13264,\n",
              " 'JavaScript': 26188,\n",
              " 'Julia': 1661,\n",
              " 'Kotlin': 9575,\n",
              " 'Objective-C': 1525,\n",
              " 'PHP': 7106,\n",
              " 'Perl': 1150,\n",
              " 'Python': 26682,\n",
              " 'R': 4271,\n",
              " 'Ruby': 4184,\n",
              " 'Rust': 10563,\n",
              " 'SQL': 19970,\n",
              " 'Scala': 3465,\n",
              " 'Swift': 5643,\n",
              " 'TypeScript': 17150,\n",
              " 'VBA': 1055}"
            ]
          },
          "metadata": {
            "tags": []
          },
          "execution_count": 19
        }
      ]
    },
    {
      "cell_type": "code",
      "metadata": {
        "id": "i1m_WZmNubbq"
      },
      "source": [
        "#Sort the dictionary according to the highest ocuurance of a lanugage\r\n",
        "lang_dict = dict(sorted(lang_dict.items(),key = lambda k:k[1],reverse=True))"
      ],
      "execution_count": null,
      "outputs": []
    },
    {
      "cell_type": "code",
      "metadata": {
        "colab": {
          "base_uri": "https://localhost:8080/",
          "height": 560
        },
        "id": "NYZGn2rRUIEL",
        "outputId": "0ce0237d-c4fc-4567-904c-c8a02a838c68"
      },
      "source": [
        "#PLotting the bar graph\r\n",
        "fig = plt.figure(figsize=(12,7))\r\n",
        "plt.bar(lang_dict.keys(),lang_dict.values())\r\n",
        "plt.xticks(rotation=90)\r\n",
        "plt.xlabel('Programming Language')\r\n",
        "plt.ylabel(\"Choice of Developers\")\r\n",
        "plt.show()\r\n",
        "plt.savefig(\"languages_trends.png\")"
      ],
      "execution_count": null,
      "outputs": [
        {
          "output_type": "display_data",
          "data": {
            "image/png": "[encoded data removed]",
            "text/plain": [
              "<Figure size 864x504 with 1 Axes>"
            ]
          },
          "metadata": {
            "tags": [],
            "needs_background": "light"
          }
        },
        {
          "output_type": "display_data",
          "data": {
            "text/plain": [
              "<Figure size 432x288 with 0 Axes>"
            ]
          },
          "metadata": {
            "tags": []
          }
        }
      ]
    },
    {
      "cell_type": "markdown",
      "metadata": {
        "id": "o1mUdOWlqnwu"
      },
      "source": [
        "**From the graph we can conclude that Javascript and Python are the most sought languages to learn by the developers**"
      ]
    },
    {
      "cell_type": "markdown",
      "metadata": {
        "id": "lZOtgEcYvx3k"
      },
      "source": [
        "**Now lets try to find out which framework caught most attention from the developer community and thus are willing to learn it next year.**"
      ]
    },
    {
      "cell_type": "code",
      "metadata": {
        "id": "zOc7Qy_lUUM0"
      },
      "source": [
        "#Drop the rows where there is no response given \r\n",
        "web_frameworks = df[\"WebframeDesireNextYear\"].dropna()"
      ],
      "execution_count": null,
      "outputs": []
    },
    {
      "cell_type": "code",
      "metadata": {
        "colab": {
          "base_uri": "https://localhost:8080/"
        },
        "id": "9P7leiolUf8R",
        "outputId": "ac9d322c-3329-4814-f21a-8353103144ad"
      },
      "source": [
        "web_frameworks.value_counts()"
      ],
      "execution_count": null,
      "outputs": [
        {
          "output_type": "execute_result",
          "data": {
            "text/plain": [
              "React.js                                                                                                                   2480\n",
              "ASP.NET Core                                                                                                               1106\n",
              "Vue.js                                                                                                                     1079\n",
              "Spring                                                                                                                     1011\n",
              "Express;React.js                                                                                                            899\n",
              "                                                                                                                           ... \n",
              "Django;Express;React.js;Spring;Symfony                                                                                        1\n",
              "Angular;Angular.js;ASP.NET;ASP.NET Core;Django;Drupal;Flask;jQuery;Laravel;React.js;Ruby on Rails;Spring;Symfony;Vue.js       1\n",
              "Angular;Angular.js;ASP.NET;ASP.NET Core;Django;Drupal;Express;Flask;jQuery;Laravel;React.js;Spring;Symfony;Vue.js             1\n",
              "ASP.NET;ASP.NET Core;Django;Drupal;Express;Flask;Gatsby;jQuery;Laravel;React.js;Symfony;Vue.js                                1\n",
              "Angular;ASP.NET;ASP.NET Core;Express;Flask;React.js;Spring;Vue.js                                                             1\n",
              "Name: WebframeDesireNextYear, Length: 3986, dtype: int64"
            ]
          },
          "metadata": {
            "tags": []
          },
          "execution_count": 23
        }
      ]
    },
    {
      "cell_type": "code",
      "metadata": {
        "id": "F7Z2q2-kXvLi"
      },
      "source": [
        "#A dicitonary for holding the occurences of a framework\r\n",
        "web_framework_dict = {}\r\n",
        "def split_frame_work(text):\r\n",
        "    '''Function takes in text and splits it\r\n",
        "    by using semicolon as a delimiter and increments \r\n",
        "    the occurence of the framework in the dictionary.\r\n",
        "    '''\r\n",
        "    frame_works = text.split(\";\")#Split the text\r\n",
        "    for frame_work in frame_works:\r\n",
        "       web_framework_dict[frame_work] = web_framework_dict.get(frame_work,0) + 1"
      ],
      "execution_count": null,
      "outputs": []
    },
    {
      "cell_type": "code",
      "metadata": {
        "colab": {
          "base_uri": "https://localhost:8080/"
        },
        "id": "bVhdyusrYI4d",
        "outputId": "d8ef5abf-640f-4291-f9fa-7dc970b0b1e0"
      },
      "source": [
        "#Apply the above defined function\r\n",
        "web_frameworks.apply(split_frame_work)"
      ],
      "execution_count": null,
      "outputs": [
        {
          "output_type": "execute_result",
          "data": {
            "text/plain": [
              "0        None\n",
              "4        None\n",
              "5        None\n",
              "7        None\n",
              "8        None\n",
              "         ... \n",
              "64438    None\n",
              "64444    None\n",
              "64446    None\n",
              "64459    None\n",
              "64460    None\n",
              "Name: WebframeDesireNextYear, Length: 40024, dtype: object"
            ]
          },
          "metadata": {
            "tags": []
          },
          "execution_count": 25
        }
      ]
    },
    {
      "cell_type": "code",
      "metadata": {
        "colab": {
          "base_uri": "https://localhost:8080/"
        },
        "id": "2LytpIngYXfJ",
        "outputId": "7112f69b-ea8e-47c1-d66a-7aaf8859fc5b"
      },
      "source": [
        "web_framework_dict"
      ],
      "execution_count": null,
      "outputs": [
        {
          "output_type": "execute_result",
          "data": {
            "text/plain": [
              "{'ASP.NET': 4818,\n",
              " 'ASP.NET Core': 9018,\n",
              " 'Angular': 10762,\n",
              " 'Angular.js': 5601,\n",
              " 'Django': 8237,\n",
              " 'Drupal': 889,\n",
              " 'Express': 8128,\n",
              " 'Flask': 6097,\n",
              " 'Gatsby': 2998,\n",
              " 'Laravel': 4260,\n",
              " 'React.js': 20071,\n",
              " 'Ruby on Rails': 3849,\n",
              " 'Spring': 6241,\n",
              " 'Symfony': 1692,\n",
              " 'Vue.js': 13142,\n",
              " 'jQuery': 8382}"
            ]
          },
          "metadata": {
            "tags": []
          },
          "execution_count": 26
        }
      ]
    },
    {
      "cell_type": "code",
      "metadata": {
        "id": "Ihm_KIAmunm9"
      },
      "source": [
        "#sort the dictionary according to the occurences of the framework in the dictionary.\r\n",
        "web_framework_dict = dict(sorted(web_framework_dict.items(),key = lambda k:k[1],reverse=True))"
      ],
      "execution_count": null,
      "outputs": []
    },
    {
      "cell_type": "code",
      "metadata": {
        "colab": {
          "base_uri": "https://localhost:8080/",
          "height": 517
        },
        "id": "ZSyfvDTnYYq2",
        "outputId": "f89438f7-8217-4257-c2c8-f7c95e8d4dc7"
      },
      "source": [
        "#Plot the bar graph\r\n",
        "fig = plt.figure(figsize=(12,7))\r\n",
        "plt.bar(web_framework_dict.keys(),web_framework_dict.values())\r\n",
        "plt.xticks(rotation=90)\r\n",
        "plt.xlabel(\"Web Framework\")\r\n",
        "plt.ylabel(\"Choice of Developers\")\r\n",
        "plt.show()\r\n",
        "plt.savefig(\"web_frameworks_trends.png\")"
      ],
      "execution_count": null,
      "outputs": [
        {
          "output_type": "display_data",
          "data": {
            "image/png": "[encoded data removed]",
            "text/plain": [
              "<Figure size 864x504 with 1 Axes>"
            ]
          },
          "metadata": {
            "tags": [],
            "needs_background": "light"
          }
        },
        {
          "output_type": "display_data",
          "data": {
            "text/plain": [
              "<Figure size 432x288 with 0 Axes>"
            ]
          },
          "metadata": {
            "tags": []
          }
        }
      ]
    },
    {
      "cell_type": "markdown",
      "metadata": {
        "id": "jBD72uAbwQ4t"
      },
      "source": [
        "**From the above bar graph we can conclude that React.js,Vue.js and Angular are the most popular frameworks.Interestingly all the three frameworks are based on Javascript.**"
      ]
    }
  ]
}